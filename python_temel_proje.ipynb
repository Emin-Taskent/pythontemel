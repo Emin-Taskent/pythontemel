{
 "cells": [
  {
   "cell_type": "code",
   "execution_count": 4,
   "metadata": {},
   "outputs": [
    {
     "name": "stdout",
     "output_type": "stream",
     "text": [
      "[1, 'a', 'cat', 2, 3, 'dog', 4, 5]\n"
     ]
    }
   ],
   "source": [
    "def flatten(x):\n",
    "    \n",
    "    for i in x:\n",
    "        if isinstance(i,list): # determine if its type is list or not. It is working until it is not list.\n",
    "            flatten(i)\n",
    "        else:\n",
    "            empty_list.append(i)\n",
    "    \n",
    "    \n",
    "\n",
    "x= [[1,'a',['cat'],2],[[[3]],'dog'],4,5] #given list\n",
    "empty_list = [] \n",
    "flatten(x)\n",
    "print(empty_list)"
   ]
  },
  {
   "cell_type": "code",
   "execution_count": 5,
   "metadata": {},
   "outputs": [
    {
     "name": "stdout",
     "output_type": "stream",
     "text": [
      "[[7, 6, 5], [4, 3], [2, 1]]\n"
     ]
    }
   ],
   "source": [
    "def reverse(x):\n",
    "    \n",
    "    for i in range(int(len(x)/2)):\n",
    "        temp = x[i]\n",
    "        x[i] = x[len(x)-(i+1)]\n",
    "        x[len(x)-(i+1)] = temp\n",
    "        \n",
    "    counter = 0\n",
    "    for i in x:\n",
    "        if isinstance(i,list):\n",
    "             \n",
    "            for a in range(int(len(i)/2)):\n",
    "                temp = x[counter][a]\n",
    "                x[counter][a] = x[counter][len(i)-(a+1)]\n",
    "                x[counter][len(i)-(a+1)] = temp\n",
    "                counter +=1\n",
    "    print(x)\n",
    "                \n",
    "\n",
    "\n",
    "x = [[1, 2], [3, 4], [5, 6, 7]] # given input \n",
    "reverse(x)\n"
   ]
  },
  {
   "cell_type": "code",
   "execution_count": null,
   "metadata": {},
   "outputs": [],
   "source": []
  }
 ],
 "metadata": {
  "kernelspec": {
   "display_name": "Python 3.10.7 64-bit",
   "language": "python",
   "name": "python3"
  },
  "language_info": {
   "codemirror_mode": {
    "name": "ipython",
    "version": 3
   },
   "file_extension": ".py",
   "mimetype": "text/x-python",
   "name": "python",
   "nbconvert_exporter": "python",
   "pygments_lexer": "ipython3",
   "version": "3.10.7"
  },
  "orig_nbformat": 4,
  "vscode": {
   "interpreter": {
    "hash": "a1a7efbbe97ace3e6a3903a1087b84955237a79a84605ff960f6ddbd0678e993"
   }
  }
 },
 "nbformat": 4,
 "nbformat_minor": 2
}
